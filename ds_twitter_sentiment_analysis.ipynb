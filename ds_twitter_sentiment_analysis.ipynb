{
 "cells": [
  {
   "cell_type": "code",
   "execution_count": 73,
   "id": "c15fb418-fcb0-41d8-bf96-b593f9b122f7",
   "metadata": {},
   "outputs": [],
   "source": [
    "from faker import Faker\n",
    "from textblob import TextBlob\n",
    "import random\n",
    "import pandas as pd"
   ]
  },
  {
   "cell_type": "code",
   "execution_count": 74,
   "id": "c2f23d19-b1c0-42df-b233-5f746cc66ad4",
   "metadata": {},
   "outputs": [],
   "source": [
    "fake = Faker()"
   ]
  },
  {
   "cell_type": "code",
   "execution_count": null,
   "id": "977c6cb3-32c3-4b36-94df-8830f81574f8",
   "metadata": {},
   "outputs": [],
   "source": [
    "def generate_tweet():\n",
    "    user = fake.user_name()\n",
    "    text = fake.text(max_nb_chars = 280)\n",
    "    likes = random.randint(0, 10000)\n",
    "    retweets = random.randint(0, 1000)\n",
    "    return {'user': user, 'text': text, 'likes': likes, 'retweets': retweets}\n",
    "\n",
    "def generate_synthetic_data(num_tweets):\n",
    "    synthetic_data = []\n",
    "    for _ in range(num_tweets):\n",
    "        synthetic_data.append(generate_tweet())\n",
    "    return synthetic_data\n",
    "    \n",
    "num_tweets = int(input(\"Enter the number of fake tweets to generate: \"))\n",
    "synthetic_tweets = generate_synthetic_data(num_tweets)\n",
    "\n",
    "for tweet in synthetic_tweets:\n",
    "    print(tweet)"
   ]
  },
  {
   "cell_type": "code",
   "execution_count": 71,
   "id": "602721a0-4d27-45e3-bc3d-e8375e52697f",
   "metadata": {},
   "outputs": [
    {
     "name": "stdout",
     "output_type": "stream",
     "text": [
      "Sentiment Analysis Results: \n",
      "Total tweets analysed:  2\n",
      "Positive Tweets:  50.0 %\n",
      "Negative Tweets:  50.0 %\n",
      "Neutral Tweets:  0.0 %\n",
      "Example Tweet: \n",
      "\n",
      "User: @brucewright\n",
      "\n",
      "Tweet: Operation media growth speak fine. Include successful finish doctor will bring past. Six operation community there.\n",
      "Boy man job unit one important poor. Political practice allow protect.\n",
      "With management as direction something. Room than middle others.\n",
      "\n",
      "Like: 8677          Retweets: 59\n"
     ]
    }
   ],
   "source": [
    "pos_count = 0\n",
    "neg_count = 0\n",
    "neu_count = 0\n",
    "\n",
    "for tweet in synthetic_tweets:\n",
    "    analysis = TextBlob(tweet['text'])\n",
    "    if analysis.sentiment.polarity > 0:\n",
    "        pos_count += 1\n",
    "    elif analysis.sentiment.polarity < 0:\n",
    "        neg_count += 1\n",
    "    else:\n",
    "        neu_count += 1\n",
    "\n",
    "tot_count = len(synthetic_tweets)\n",
    "pos_per = (pos_count/tot_count) * 100\n",
    "neg_per = (neg_count/tot_count) * 100\n",
    "neu_per = (neu_count/tot_count) * 100\n",
    "\n",
    "print(\"Sentiment Analysis Results: \")\n",
    "print(\"Total tweets analysed: \", tot_count)\n",
    "print(\"Positive Tweets: \", pos_per, \"%\")\n",
    "print(\"Negative Tweets: \", neg_per, \"%\")\n",
    "print(\"Neutral Tweets: \", neu_per, \"%\")\n",
    "\n",
    "print(\"Example Tweet: \\n\")\n",
    "random = random.choice(synthetic_tweets)\n",
    "print(f\"User: @{random['user']}\\n\")\n",
    "print(f\"Tweet: {random['text']}\\n\")\n",
    "print(f\"Like: {random['likes']}          Retweets: {random['retweets']}\")"
   ]
  },
  {
   "cell_type": "code",
   "execution_count": 72,
   "id": "ecbf509a-fd68-4fa6-b8df-d25e122a5ea3",
   "metadata": {},
   "outputs": [],
   "source": [
    "df = pd.DataFrame(synthetic_tweets)"
   ]
  },
  {
   "cell_type": "code",
   "execution_count": 65,
   "id": "8f6a2231-9632-475b-9f02-0cdb944b022d",
   "metadata": {},
   "outputs": [],
   "source": [
    "df = df[['user', 'text', 'likes', 'retweets']]"
   ]
  },
  {
   "cell_type": "code",
   "execution_count": 66,
   "id": "36ab1db3-e9a5-4a54-9aaa-9241c467012e",
   "metadata": {},
   "outputs": [],
   "source": [
    "df.to_csv('synthetic_twitter_data.csv', index = False)"
   ]
  }
 ],
 "metadata": {
  "kernelspec": {
   "display_name": "Python 3 (ipykernel)",
   "language": "python",
   "name": "python3"
  },
  "language_info": {
   "codemirror_mode": {
    "name": "ipython",
    "version": 3
   },
   "file_extension": ".py",
   "mimetype": "text/x-python",
   "name": "python",
   "nbconvert_exporter": "python",
   "pygments_lexer": "ipython3",
   "version": "3.11.5"
  }
 },
 "nbformat": 4,
 "nbformat_minor": 5
}
