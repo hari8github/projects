{
 "cells": [
  {
   "cell_type": "markdown",
   "id": "64ea9afd-2261-44fb-af18-bad08494fbb3",
   "metadata": {},
   "source": [
    "Celsius to Fahrenheit     F = C * 1.8 + 32"
   ]
  },
  {
   "cell_type": "code",
   "execution_count": 54,
   "id": "3b4a83cb-6400-4da0-a08f-eef4e6f3c142",
   "metadata": {},
   "outputs": [],
   "source": [
    "import tensorflow as tf\n",
    "import numpy as np"
   ]
  },
  {
   "cell_type": "code",
   "execution_count": 22,
   "id": "240d72b9-0b16-4655-814a-31610c0a0636",
   "metadata": {},
   "outputs": [
    {
     "name": "stdout",
     "output_type": "stream",
     "text": [
      "-40.0 degree celsius = -40.0 degree fahrenheit\n",
      "-10.0 degree celsius = 14.0 degree fahrenheit\n",
      "0.0 degree celsius = 32.0 degree fahrenheit\n",
      "8.0 degree celsius = 46.0 degree fahrenheit\n",
      "15.0 degree celsius = 59.0 degree fahrenheit\n",
      "22.0 degree celsius = 72.0 degree fahrenheit\n",
      "38.0 degree celsius = 100.0 degree fahrenheit\n"
     ]
    }
   ],
   "source": [
    "celsius_q    = np.array([-40, -10,  0,  8, 15, 22,  38],  dtype=float)\n",
    "fahrenheit_a = np.array([-40,  14, 32, 46, 59, 72, 100],  dtype=float)\n",
    "\n",
    "for i, e in enumerate(celsius_q):\n",
    "    print(\"{} degree celsius = {} degree fahrenheit\".format(e, fahrenheit_a[i])) "
   ]
  },
  {
   "cell_type": "code",
   "execution_count": 44,
   "id": "b62b2b2a-1c60-49e2-90ad-25d6532a533b",
   "metadata": {},
   "outputs": [],
   "source": [
    "l0 = tf.keras.layers.Dense(units = 1, input_shape = [1])"
   ]
  },
  {
   "cell_type": "code",
   "execution_count": 45,
   "id": "e438766a-5802-40b3-9d81-1fd10d6bc8bc",
   "metadata": {},
   "outputs": [],
   "source": [
    "model = tf.keras.Sequential([l0])"
   ]
  },
  {
   "cell_type": "code",
   "execution_count": 46,
   "id": "d1843283-9031-4306-92d9-156e56493d06",
   "metadata": {},
   "outputs": [],
   "source": [
    "#model = tf.keras.Sequential([\n",
    " # tf.keras.layers.Dense(units=1, input_shape=[1])\n",
    "#])"
   ]
  },
  {
   "cell_type": "code",
   "execution_count": 47,
   "id": "c49dbd64-6fe8-46a3-be42-2bb92bb9e87e",
   "metadata": {},
   "outputs": [],
   "source": [
    "model.compile(loss = 'mean_squared_error', optimizer = tf.keras.optimizers.Adam(0.1))"
   ]
  },
  {
   "cell_type": "code",
   "execution_count": 48,
   "id": "2bd0af89-25bf-480a-9cd1-45af9b3e89d7",
   "metadata": {},
   "outputs": [
    {
     "name": "stdout",
     "output_type": "stream",
     "text": [
      "Finished training the model\n"
     ]
    }
   ],
   "source": [
    "history = model.fit(celsius_q, fahrenheit_a, epochs = 500, verbose = False)\n",
    "print(\"Finished training the model\")"
   ]
  },
  {
   "cell_type": "code",
   "execution_count": 49,
   "id": "1aaebb12-d628-4f9f-8304-2e112d8b3068",
   "metadata": {},
   "outputs": [
    {
     "data": {
      "text/plain": [
       "[<matplotlib.lines.Line2D at 0x20f5549cdc0>]"
      ]
     },
     "execution_count": 49,
     "metadata": {},
     "output_type": "execute_result"
    },
    {
     "data": {
      "image/png": "[encoded data removed]",
      "text/plain": [
       "<Figure size 640x480 with 1 Axes>"
      ]
     },
     "metadata": {},
     "output_type": "display_data"
    }
   ],
   "source": [
    "import matplotlib.pyplot as plt\n",
    "plt.xlabel(\"Epoch number\")\n",
    "plt.ylabel(\"Loss Magnitude\")\n",
    "plt.plot(history.history['loss'])"
   ]
  },
  {
   "cell_type": "code",
   "execution_count": 50,
   "id": "048a803d-87c4-4607-ab6e-640ff340ddda",
   "metadata": {},
   "outputs": [
    {
     "name": "stdout",
     "output_type": "stream",
     "text": [
      "1/1 [==============================] - 0s 88ms/step\n",
      "[[211.30249]]\n"
     ]
    }
   ],
   "source": [
    "print(model.predict([100.0]))"
   ]
  },
  {
   "cell_type": "code",
   "execution_count": 51,
   "id": "7ad21474-6675-43ce-b600-3a80d9f2c3ea",
   "metadata": {},
   "outputs": [
    {
     "name": "stdout",
     "output_type": "stream",
     "text": [
      "These are the layer variables: [array([[1.8253161]], dtype=float32), array([28.770887], dtype=float32)]\n"
     ]
    }
   ],
   "source": [
    "print(\"These are the layer variables: {}\".format(l0.get_weights()))"
   ]
  },
  {
   "cell_type": "code",
   "execution_count": 53,
   "id": "fef0bec2-8cd3-4732-b983-891ca6e78a0a",
   "metadata": {},
   "outputs": [
    {
     "name": "stdout",
     "output_type": "stream",
     "text": [
      "Finished training the model\n",
      "WARNING:tensorflow:6 out of the last 10 calls to <function Model.make_predict_function.<locals>.predict_function at 0x0000020F56795DC0> triggered tf.function retracing. Tracing is expensive and the excessive number of tracings could be due to (1) creating @tf.function repeatedly in a loop, (2) passing tensors with different shapes, (3) passing Python objects instead of tensors. For (1), please define your @tf.function outside of the loop. For (2), @tf.function has reduce_retracing=True option that can avoid unnecessary retracing. For (3), please refer to https://www.tensorflow.org/guide/function#controlling_retracing and https://www.tensorflow.org/api_docs/python/tf/function for  more details.\n",
      "1/1 [==============================] - 0s 128ms/step\n",
      "[[212.42557]]\n",
      "1/1 [==============================] - 0s 56ms/step\n",
      "Model predicts the 100 degree Celsius is: [[212.42557]] degree Fahrenheit\n",
      "These are the layer variables: [array([[-0.35065067,  0.54183507,  0.4171396 ,  0.35010415]],\n",
      "      dtype=float32), array([-3.359951 ,  3.3331773,  3.3819902, -2.4684782], dtype=float32)]\n",
      "These are the layer variables: [array([[ 0.86443514,  1.1173232 , -0.15661018,  0.4242831 ],\n",
      "       [ 0.1588237 , -0.85633326, -0.6707031 , -0.5886453 ],\n",
      "       [ 0.07743952, -1.3308924 , -0.41338053,  0.08948863],\n",
      "       [ 0.41243994,  0.8304326 ,  0.49082038,  0.4966805 ]],\n",
      "      dtype=float32), array([ 0.2872431, -3.3284214, -1.4532158, -2.8807836], dtype=float32)]\n",
      "These are the layer variables: [array([[-0.13679092],\n",
      "       [-1.4307412 ],\n",
      "       [-0.22640291],\n",
      "       [-0.49225083]], dtype=float32), array([3.149868], dtype=float32)]\n"
     ]
    }
   ],
   "source": [
    "l0 = tf.keras.layers.Dense(units = 4, input_shape = [1])\n",
    "l1 = tf.keras.layers.Dense(units = 4)\n",
    "l2 = tf.keras.layers.Dense(units = 1)\n",
    "\n",
    "model = tf.keras.Sequential([l0, l1, l2])\n",
    "model.compile(loss = 'mean_squared_error', optimizer = tf.keras.optimizers.Adam(0.1))\n",
    "model.fit(celsius_q, fahrenheit_a, epochs = 100, verbose = False)\n",
    "print(\"Finished training the model\")\n",
    "print(model.predict([100.0]))\n",
    "print(\"Model predicts the 100 degree Celsius is: {} degree Fahrenheit\".format(model.predict([100.0])))\n",
    "\n",
    "print(\"These are the layer variables: {}\".format(l0.get_weights()))\n",
    "print(\"These are the layer variables: {}\".format(l1.get_weights()))\n",
    "print(\"These are the layer variables: {}\".format(l2.get_weights()))"
   ]
  }
 ],
 "metadata": {
  "kernelspec": {
   "display_name": "Python 3 (ipykernel)",
   "language": "python",
   "name": "python3"
  },
  "language_info": {
   "codemirror_mode": {
    "name": "ipython",
    "version": 3
   },
   "file_extension": ".py",
   "mimetype": "text/x-python",
   "name": "python",
   "nbconvert_exporter": "python",
   "pygments_lexer": "ipython3",
   "version": "3.9.18"
  }
 },
 "nbformat": 4,
 "nbformat_minor": 5
}
