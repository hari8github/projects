{
 "cells": [
  {
   "cell_type": "code",
   "execution_count": 1,
   "id": "8a7b6f71",
   "metadata": {},
   "outputs": [],
   "source": [
    "from sklearn.model_selection import train_test_split\n",
    "from sklearn.ensemble import RandomForestClassifier\n",
    "from sklearn.dummy import DummyClassifier\n",
    "from sklearn.metrics import classification_report"
   ]
  },
  {
   "cell_type": "code",
   "execution_count": 2,
   "id": "abec9892",
   "metadata": {},
   "outputs": [],
   "source": [
    "import pandas as pd\n",
    "import numpy as np\n",
    "from datetime import datetime, timedelta"
   ]
  },
  {
   "cell_type": "code",
   "execution_count": 3,
   "id": "aaad3926",
   "metadata": {},
   "outputs": [],
   "source": [
    "start_timestamp = datetime(2022, 1, 1)\n",
    "num_data_points = 10000"
   ]
  },
  {
   "cell_type": "code",
   "execution_count": 4,
   "id": "ac743deb",
   "metadata": {},
   "outputs": [],
   "source": [
    "timestamps = [start_timestamp + timedelta(minutes=i) for i in range(num_data_points)]\n",
    "temperature = np.random.normal(loc=25, scale=2, size=num_data_points)\n",
    "vibration = np.random.normal(loc=0.05, scale=0.02, size=num_data_points)\n",
    "pressure = np.random.normal(loc=10, scale=0.5, size=num_data_points)\n",
    "failure = np.zeros(num_data_points)"
   ]
  },
  {
   "cell_type": "code",
   "execution_count": 29,
   "id": "2f263a8c",
   "metadata": {},
   "outputs": [],
   "source": [
    "failure_indices = np.random.choice(range(num_data_points), size=int(num_data_points * 0.05), replace=False)\n",
    "failure[failure_indices] = 1"
   ]
  },
  {
   "cell_type": "code",
   "execution_count": 6,
   "id": "a92f282c",
   "metadata": {},
   "outputs": [],
   "source": [
    "data = pd.DataFrame({\n",
    "    'timestamp': timestamps,\n",
    "    'temperature': temperature,\n",
    "    'vibration': vibration,\n",
    "    'pressure': pressure,\n",
    "    'failure': failure\n",
    "})"
   ]
  },
  {
   "cell_type": "code",
   "execution_count": 7,
   "id": "2beec8c9",
   "metadata": {},
   "outputs": [
    {
     "name": "stdout",
     "output_type": "stream",
     "text": [
      "               timestamp  temperature  vibration   pressure  failure\n",
      "0    2022-01-01 00:00:00    24.662295   0.039057  10.621236      0.0\n",
      "1    2022-01-01 00:01:00    25.075357   0.038726  10.196793      0.0\n",
      "2    2022-01-01 00:02:00    22.537829   0.021363  10.073450      0.0\n",
      "3    2022-01-01 00:03:00    27.859912   0.036075  10.299577      0.0\n",
      "4    2022-01-01 00:04:00    23.924996   0.070164  10.247103      0.0\n",
      "...                  ...          ...        ...        ...      ...\n",
      "9995 2022-01-07 22:35:00    24.834012   0.019992  10.354457      0.0\n",
      "9996 2022-01-07 22:36:00    24.546222   0.054940   9.838168      0.0\n",
      "9997 2022-01-07 22:37:00    25.116250   0.058844  10.122268      0.0\n",
      "9998 2022-01-07 22:38:00    22.984082   0.052274  10.580420      1.0\n",
      "9999 2022-01-07 22:39:00    23.450589   0.061834   9.823904      0.0\n",
      "\n",
      "[10000 rows x 5 columns]\n"
     ]
    }
   ],
   "source": [
    "data.to_csv(\"equipment_data.csv\", index=False)\n",
    "print(data)"
   ]
  },
  {
   "cell_type": "code",
   "execution_count": 8,
   "id": "dae057d8",
   "metadata": {},
   "outputs": [
    {
     "name": "stdout",
     "output_type": "stream",
     "text": [
      "            timestamp  temperature  vibration   pressure  failure\n",
      "0 2022-01-01 00:00:00    24.662295   0.039057  10.621236      0.0\n",
      "1 2022-01-01 00:01:00    25.075357   0.038726  10.196793      0.0\n",
      "2 2022-01-01 00:02:00    22.537829   0.021363  10.073450      0.0\n",
      "3 2022-01-01 00:03:00    27.859912   0.036075  10.299577      0.0\n",
      "4 2022-01-01 00:04:00    23.924996   0.070164  10.247103      0.0\n"
     ]
    }
   ],
   "source": [
    "print(data.head(5))"
   ]
  },
  {
   "cell_type": "code",
   "execution_count": 9,
   "id": "4cbfada9",
   "metadata": {},
   "outputs": [
    {
     "name": "stdout",
     "output_type": "stream",
     "text": [
      "               timestamp  temperature  vibration   pressure  failure\n",
      "9995 2022-01-07 22:35:00    24.834012   0.019992  10.354457      0.0\n",
      "9996 2022-01-07 22:36:00    24.546222   0.054940   9.838168      0.0\n",
      "9997 2022-01-07 22:37:00    25.116250   0.058844  10.122268      0.0\n",
      "9998 2022-01-07 22:38:00    22.984082   0.052274  10.580420      1.0\n",
      "9999 2022-01-07 22:39:00    23.450589   0.061834   9.823904      0.0\n"
     ]
    }
   ],
   "source": [
    "print(data.tail())"
   ]
  },
  {
   "cell_type": "code",
   "execution_count": 10,
   "id": "2bc5a06f",
   "metadata": {},
   "outputs": [
    {
     "name": "stdout",
     "output_type": "stream",
     "text": [
      "                 timestamp   temperature     vibration      pressure  \\\n",
      "count                10000  10000.000000  10000.000000  10000.000000   \n",
      "mean   2022-01-04 11:19:30     25.016591      0.050151     10.006214   \n",
      "min    2022-01-01 00:00:00     16.835200     -0.024159      8.080225   \n",
      "25%    2022-01-02 17:39:45     23.640699      0.036854      9.674099   \n",
      "50%    2022-01-04 11:19:30     25.005331      0.049951     10.006640   \n",
      "75%    2022-01-06 04:59:15     26.357805      0.063437     10.337070   \n",
      "max    2022-01-07 22:39:00     34.163492      0.121193     12.002308   \n",
      "std                    NaN      1.991941      0.019694      0.496265   \n",
      "\n",
      "            failure  \n",
      "count  10000.000000  \n",
      "mean       0.050000  \n",
      "min        0.000000  \n",
      "25%        0.000000  \n",
      "50%        0.000000  \n",
      "75%        0.000000  \n",
      "max        1.000000  \n",
      "std        0.217956  \n"
     ]
    }
   ],
   "source": [
    "print(data.describe())"
   ]
  },
  {
   "cell_type": "code",
   "execution_count": 25,
   "id": "0cddc941",
   "metadata": {},
   "outputs": [],
   "source": [
    "data.dropna(inplace=True)"
   ]
  },
  {
   "cell_type": "code",
   "execution_count": 26,
   "id": "15d3b0c9",
   "metadata": {},
   "outputs": [],
   "source": [
    "from sklearn.model_selection import train_test_split"
   ]
  },
  {
   "cell_type": "code",
   "execution_count": 28,
   "id": "98e51a2f",
   "metadata": {},
   "outputs": [],
   "source": [
    "X = data.drop(\"failure\", axis=1) \n",
    "y = data[\"failure\"] \n",
    "X_train, X_test, y_train, y_test = train_test_split(X, y, test_size=0.2, random_state=42)"
   ]
  },
  {
   "cell_type": "code",
   "execution_count": 27,
   "id": "effce33d",
   "metadata": {},
   "outputs": [],
   "source": [
    "relevant_features = [\"temperature\", \"vibration\", \"pressure\"]\n",
    "\n",
    "X_train = X_train[relevant_features]\n",
    "X_test = X_test[relevant_features]"
   ]
  },
  {
   "cell_type": "code",
   "execution_count": 15,
   "id": "f8eb43ef",
   "metadata": {},
   "outputs": [],
   "source": [
    "window_size = 5\n",
    "X_train_rolling = X_train.rolling(window_size).mean().dropna()\n",
    "X_test_rolling = X_test.rolling(window_size).mean().dropna()"
   ]
  },
  {
   "cell_type": "code",
   "execution_count": 21,
   "id": "30d7a426",
   "metadata": {},
   "outputs": [
    {
     "name": "stdout",
     "output_type": "stream",
     "text": [
      "Length of x_train: 8000\n",
      "Length of x_test: 2000\n"
     ]
    }
   ],
   "source": [
    "print(\"Length of x_train:\", len(X_train))\n",
    "print(\"Length of x_test:\", len(X_test))"
   ]
  },
  {
   "cell_type": "code",
   "execution_count": 22,
   "id": "c4ece121",
   "metadata": {},
   "outputs": [],
   "source": [
    "model = RandomForestClassifier()"
   ]
  },
  {
   "cell_type": "code",
   "execution_count": 23,
   "id": "a95f66e9-2849-4f5f-8b67-6e8fda35e51d",
   "metadata": {},
   "outputs": [
    {
     "data": {
      "text/html": [
       "<style>#sk-container-id-2 {color: black;}#sk-container-id-2 pre{padding: 0;}#sk-container-id-2 div.sk-toggleable {background-color: white;}#sk-container-id-2 label.sk-toggleable__label {cursor: pointer;display: block;width: 100%;margin-bottom: 0;padding: 0.3em;box-sizing: border-box;text-align: center;}#sk-container-id-2 label.sk-toggleable__label-arrow:before {content: \"▸\";float: left;margin-right: 0.25em;color: #696969;}#sk-container-id-2 label.sk-toggleable__label-arrow:hover:before {color: black;}#sk-container-id-2 div.sk-estimator:hover label.sk-toggleable__label-arrow:before {color: black;}#sk-container-id-2 div.sk-toggleable__content {max-height: 0;max-width: 0;overflow: hidden;text-align: left;background-color: #f0f8ff;}#sk-container-id-2 div.sk-toggleable__content pre {margin: 0.2em;color: black;border-radius: 0.25em;background-color: #f0f8ff;}#sk-container-id-2 input.sk-toggleable__control:checked~div.sk-toggleable__content {max-height: 200px;max-width: 100%;overflow: auto;}#sk-container-id-2 input.sk-toggleable__control:checked~label.sk-toggleable__label-arrow:before {content: \"▾\";}#sk-container-id-2 div.sk-estimator input.sk-toggleable__control:checked~label.sk-toggleable__label {background-color: #d4ebff;}#sk-container-id-2 div.sk-label input.sk-toggleable__control:checked~label.sk-toggleable__label {background-color: #d4ebff;}#sk-container-id-2 input.sk-hidden--visually {border: 0;clip: rect(1px 1px 1px 1px);clip: rect(1px, 1px, 1px, 1px);height: 1px;margin: -1px;overflow: hidden;padding: 0;position: absolute;width: 1px;}#sk-container-id-2 div.sk-estimator {font-family: monospace;background-color: #f0f8ff;border: 1px dotted black;border-radius: 0.25em;box-sizing: border-box;margin-bottom: 0.5em;}#sk-container-id-2 div.sk-estimator:hover {background-color: #d4ebff;}#sk-container-id-2 div.sk-parallel-item::after {content: \"\";width: 100%;border-bottom: 1px solid gray;flex-grow: 1;}#sk-container-id-2 div.sk-label:hover label.sk-toggleable__label {background-color: #d4ebff;}#sk-container-id-2 div.sk-serial::before {content: \"\";position: absolute;border-left: 1px solid gray;box-sizing: border-box;top: 0;bottom: 0;left: 50%;z-index: 0;}#sk-container-id-2 div.sk-serial {display: flex;flex-direction: column;align-items: center;background-color: white;padding-right: 0.2em;padding-left: 0.2em;position: relative;}#sk-container-id-2 div.sk-item {position: relative;z-index: 1;}#sk-container-id-2 div.sk-parallel {display: flex;align-items: stretch;justify-content: center;background-color: white;position: relative;}#sk-container-id-2 div.sk-item::before, #sk-container-id-2 div.sk-parallel-item::before {content: \"\";position: absolute;border-left: 1px solid gray;box-sizing: border-box;top: 0;bottom: 0;left: 50%;z-index: -1;}#sk-container-id-2 div.sk-parallel-item {display: flex;flex-direction: column;z-index: 1;position: relative;background-color: white;}#sk-container-id-2 div.sk-parallel-item:first-child::after {align-self: flex-end;width: 50%;}#sk-container-id-2 div.sk-parallel-item:last-child::after {align-self: flex-start;width: 50%;}#sk-container-id-2 div.sk-parallel-item:only-child::after {width: 0;}#sk-container-id-2 div.sk-dashed-wrapped {border: 1px dashed gray;margin: 0 0.4em 0.5em 0.4em;box-sizing: border-box;padding-bottom: 0.4em;background-color: white;}#sk-container-id-2 div.sk-label label {font-family: monospace;font-weight: bold;display: inline-block;line-height: 1.2em;}#sk-container-id-2 div.sk-label-container {text-align: center;}#sk-container-id-2 div.sk-container {/* jupyter's `normalize.less` sets `[hidden] { display: none; }` but bootstrap.min.css set `[hidden] { display: none !important; }` so we also need the `!important` here to be able to override the default hidden behavior on the sphinx rendered scikit-learn.org. See: https://github.com/scikit-learn/scikit-learn/issues/21755 */display: inline-block !important;position: relative;}#sk-container-id-2 div.sk-text-repr-fallback {display: none;}</style><div id=\"sk-container-id-2\" class=\"sk-top-container\"><div class=\"sk-text-repr-fallback\"><pre>RandomForestClassifier()</pre><b>In a Jupyter environment, please rerun this cell to show the HTML representation or trust the notebook. <br />On GitHub, the HTML representation is unable to render, please try loading this page with nbviewer.org.</b></div><div class=\"sk-container\" hidden><div class=\"sk-item\"><div class=\"sk-estimator sk-toggleable\"><input class=\"sk-toggleable__control sk-hidden--visually\" id=\"sk-estimator-id-2\" type=\"checkbox\" checked><label for=\"sk-estimator-id-2\" class=\"sk-toggleable__label sk-toggleable__label-arrow\">RandomForestClassifier</label><div class=\"sk-toggleable__content\"><pre>RandomForestClassifier()</pre></div></div></div></div></div>"
      ],
      "text/plain": [
       "RandomForestClassifier()"
      ]
     },
     "execution_count": 23,
     "metadata": {},
     "output_type": "execute_result"
    }
   ],
   "source": [
    "model.fit(X_train, y_train)"
   ]
  },
  {
   "cell_type": "code",
   "execution_count": 24,
   "id": "175f625d-62ac-4a0b-9a76-881fcca2cf38",
   "metadata": {},
   "outputs": [
    {
     "data": {
      "text/plain": [
       "0.95"
      ]
     },
     "execution_count": 24,
     "metadata": {},
     "output_type": "execute_result"
    }
   ],
   "source": [
    "model.score(X_test, y_test)"
   ]
  }
 ],
 "metadata": {
  "kernelspec": {
   "display_name": "Python 3 (ipykernel)",
   "language": "python",
   "name": "python3"
  },
  "language_info": {
   "codemirror_mode": {
    "name": "ipython",
    "version": 3
   },
   "file_extension": ".py",
   "mimetype": "text/x-python",
   "name": "python",
   "nbconvert_exporter": "python",
   "pygments_lexer": "ipython3",
   "version": "3.8.10"
  }
 },
 "nbformat": 4,
 "nbformat_minor": 5
}
