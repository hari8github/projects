{
 "cells": [
  {
   "cell_type": "markdown",
   "id": "a7e4488b",
   "metadata": {},
   "source": [
    "#AI&ML project"
   ]
  },
  {
   "cell_type": "code",
   "execution_count": 31,
   "id": "8a7b6f71",
   "metadata": {},
   "outputs": [],
   "source": [
    "from sklearn.model_selection import train_test_split\n",
    "from sklearn.ensemble import RandomForestClassifier\n",
    "from sklearn.dummy import DummyClassifier\n",
    "from sklearn.metrics import accuracy_score, precision_score, recall_score, f1_score"
   ]
  },
  {
   "cell_type": "code",
   "execution_count": 32,
   "id": "abec9892",
   "metadata": {},
   "outputs": [],
   "source": [
    "import pandas as pd\n",
    "import numpy as np\n",
    "from datetime import datetime, timedelta"
   ]
  },
  {
   "cell_type": "code",
   "execution_count": 33,
   "id": "aaad3926",
   "metadata": {},
   "outputs": [],
   "source": [
    "start_timestamp = datetime(2022, 1, 1)\n",
    "num_data_points = 10000"
   ]
  },
  {
   "cell_type": "code",
   "execution_count": 34,
   "id": "ac743deb",
   "metadata": {},
   "outputs": [],
   "source": [
    "timestamps = [start_timestamp + timedelta(minutes=i) for i in range(num_data_points)]\n",
    "temperature = np.random.normal(loc=25, scale=2, size=num_data_points)\n",
    "vibration = np.random.normal(loc=0.05, scale=0.02, size=num_data_points)\n",
    "pressure = np.random.normal(loc=10, scale=0.5, size=num_data_points)\n",
    "failure = np.zeros(num_data_points)"
   ]
  },
  {
   "cell_type": "code",
   "execution_count": 35,
   "id": "2f263a8c",
   "metadata": {},
   "outputs": [],
   "source": [
    "# Introduce failures at random points\n",
    "failure_indices = np.random.choice(range(num_data_points), size=int(num_data_points * 0.05), replace=False)\n",
    "failure[failure_indices] = 1"
   ]
  },
  {
   "cell_type": "code",
   "execution_count": 36,
   "id": "a92f282c",
   "metadata": {},
   "outputs": [],
   "source": [
    "data = pd.DataFrame({\n",
    "    'timestamp': timestamps,\n",
    "    'temperature': temperature,\n",
    "    'vibration': vibration,\n",
    "    'pressure': pressure,\n",
    "    'failure': failure\n",
    "})"
   ]
  },
  {
   "cell_type": "code",
   "execution_count": 37,
   "id": "2beec8c9",
   "metadata": {},
   "outputs": [
    {
     "name": "stdout",
     "output_type": "stream",
     "text": [
      "               timestamp  temperature  vibration   pressure  failure\n",
      "0    2022-01-01 00:00:00    21.171526   0.070728  10.388036      0.0\n",
      "1    2022-01-01 00:01:00    24.824404  -0.005716  10.000725      0.0\n",
      "2    2022-01-01 00:02:00    24.515724   0.039314  10.685094      0.0\n",
      "3    2022-01-01 00:03:00    25.979885   0.066488  10.945059      0.0\n",
      "4    2022-01-01 00:04:00    25.910084   0.060493   9.968855      0.0\n",
      "...                  ...          ...        ...        ...      ...\n",
      "9995 2022-01-07 22:35:00    24.745044   0.045591  10.170936      0.0\n",
      "9996 2022-01-07 22:36:00    24.091993   0.034440  10.158923      0.0\n",
      "9997 2022-01-07 22:37:00    21.330539   0.047807  10.430351      0.0\n",
      "9998 2022-01-07 22:38:00    24.322498   0.035947  10.463671      0.0\n",
      "9999 2022-01-07 22:39:00    25.551310   0.060291  10.140781      0.0\n",
      "\n",
      "[10000 rows x 5 columns]\n"
     ]
    }
   ],
   "source": [
    "data.to_csv(\"equipment_data.csv\", index=False)\n",
    "print(data)"
   ]
  },
  {
   "cell_type": "code",
   "execution_count": 38,
   "id": "dae057d8",
   "metadata": {},
   "outputs": [
    {
     "name": "stdout",
     "output_type": "stream",
     "text": [
      "            timestamp  temperature  vibration   pressure  failure\n",
      "0 2022-01-01 00:00:00    21.171526   0.070728  10.388036      0.0\n",
      "1 2022-01-01 00:01:00    24.824404  -0.005716  10.000725      0.0\n",
      "2 2022-01-01 00:02:00    24.515724   0.039314  10.685094      0.0\n",
      "3 2022-01-01 00:03:00    25.979885   0.066488  10.945059      0.0\n",
      "4 2022-01-01 00:04:00    25.910084   0.060493   9.968855      0.0\n"
     ]
    }
   ],
   "source": [
    "print(data.head(5))"
   ]
  },
  {
   "cell_type": "code",
   "execution_count": 39,
   "id": "4cbfada9",
   "metadata": {},
   "outputs": [
    {
     "name": "stdout",
     "output_type": "stream",
     "text": [
      "               timestamp  temperature  vibration   pressure  failure\n",
      "9995 2022-01-07 22:35:00    24.745044   0.045591  10.170936      0.0\n",
      "9996 2022-01-07 22:36:00    24.091993   0.034440  10.158923      0.0\n",
      "9997 2022-01-07 22:37:00    21.330539   0.047807  10.430351      0.0\n",
      "9998 2022-01-07 22:38:00    24.322498   0.035947  10.463671      0.0\n",
      "9999 2022-01-07 22:39:00    25.551310   0.060291  10.140781      0.0\n"
     ]
    }
   ],
   "source": [
    "print(data.tail())"
   ]
  },
  {
   "cell_type": "code",
   "execution_count": 40,
   "id": "2bc5a06f",
   "metadata": {},
   "outputs": [
    {
     "name": "stdout",
     "output_type": "stream",
     "text": [
      "                 timestamp   temperature     vibration      pressure  \\\n",
      "count                10000  10000.000000  10000.000000  10000.000000   \n",
      "mean   2022-01-04 11:19:30     25.010855      0.050314      9.998335   \n",
      "min    2022-01-01 00:00:00     17.346394     -0.017783      7.890719   \n",
      "25%    2022-01-02 17:39:45     23.675585      0.036736      9.666010   \n",
      "50%    2022-01-04 11:19:30     25.020949      0.050233      9.996657   \n",
      "75%    2022-01-06 04:59:15     26.337693      0.063614     10.337442   \n",
      "max    2022-01-07 22:39:00     32.514068      0.121665     11.858168   \n",
      "std                    NaN      2.001768      0.019885      0.497387   \n",
      "\n",
      "            failure  \n",
      "count  10000.000000  \n",
      "mean       0.050000  \n",
      "min        0.000000  \n",
      "25%        0.000000  \n",
      "50%        0.000000  \n",
      "75%        0.000000  \n",
      "max        1.000000  \n",
      "std        0.217956  \n"
     ]
    }
   ],
   "source": [
    "print(data.describe())"
   ]
  },
  {
   "cell_type": "code",
   "execution_count": 41,
   "id": "0cddc941",
   "metadata": {},
   "outputs": [],
   "source": [
    "# Preprocess the data\n",
    "data.dropna(inplace=True)"
   ]
  },
  {
   "cell_type": "code",
   "execution_count": 42,
   "id": "15d3b0c9",
   "metadata": {},
   "outputs": [],
   "source": [
    "# Split the dataset into training and testing sets\n",
    "from sklearn.model_selection import train_test_split"
   ]
  },
  {
   "cell_type": "code",
   "execution_count": 25,
   "id": "98e51a2f",
   "metadata": {},
   "outputs": [],
   "source": [
    "X = data.drop(\"failure\", axis=1)  # Input features (sensor readings)\n",
    "y = data[\"failure\"]  # Target variable (failure label)\n",
    "X_train, X_test, y_train, y_test = train_test_split(X, y, test_size=0.2, random_state=42)"
   ]
  },
  {
   "cell_type": "code",
   "execution_count": 26,
   "id": "effce33d",
   "metadata": {},
   "outputs": [],
   "source": [
    "# Extract relevant features from the sensor data\n",
    "# (e.g., temperature, vibration, pressure, etc.)\n",
    "relevant_features = [\"temperature\", \"vibration\", \"pressure\"]\n",
    "\n",
    "X_train = X_train[relevant_features]\n",
    "X_test = X_test[relevant_features]"
   ]
  },
  {
   "cell_type": "code",
   "execution_count": 27,
   "id": "f8eb43ef",
   "metadata": {},
   "outputs": [],
   "source": [
    "window_size = 5\n",
    "X_train_rolling = X_train.rolling(window_size).mean().dropna()\n",
    "X_test_rolling = X_test.rolling(window_size).mean().dropna()"
   ]
  },
  {
   "cell_type": "code",
   "execution_count": 28,
   "id": "30d7a426",
   "metadata": {},
   "outputs": [
    {
     "name": "stdout",
     "output_type": "stream",
     "text": [
      "Length of x_test: 2000\n",
      "Length of x_pred: 8000\n"
     ]
    }
   ],
   "source": [
    "print(\"Length of x_test:\", len(X_test))\n",
    "print(\"Length of x_pred:\", len(X_train))"
   ]
  },
  {
   "cell_type": "code",
   "execution_count": 30,
   "id": "c4ece121",
   "metadata": {},
   "outputs": [
    {
     "name": "stdout",
     "output_type": "stream",
     "text": [
      "Error: Length mismatch between X_test and X_pred.\n",
      "Unique labels in X_test: {'temperature', 'pressure', 'vibration'}\n",
      "Unique labels in X_pred: {'temperature', 'pressure', 'vibration'}\n"
     ]
    }
   ],
   "source": [
    "if len(X_test) == len(X_train):\n",
    "    accuracy = accuracy_score(X_test, X_train)\n",
    "    precision = precision_score(X_test, X_train)\n",
    "    recall = recall_score(X_test, X_train)\n",
    "    f1 = f1_score(X_test, X_train)\n",
    "\n",
    "    print(\"Accuracy:\", accuracy)\n",
    "    print(\"Precision:\", precision)\n",
    "    print(\"Recall:\", recall)\n",
    "    print(\"F1-score:\", f1)\n",
    "else:\n",
    "    print(\"Error: Length mismatch between X_test and X_pred.\")\n",
    "    print(\"Unique labels in X_test:\", set(X_test))\n",
    "    print(\"Unique labels in X_pred:\", set(X_train))"
   ]
  }
 ],
 "metadata": {
  "kernelspec": {
   "display_name": "Python 3 (ipykernel)",
   "language": "python",
   "name": "python3"
  },
  "language_info": {
   "codemirror_mode": {
    "name": "ipython",
    "version": 3
   },
   "file_extension": ".py",
   "mimetype": "text/x-python",
   "name": "python",
   "nbconvert_exporter": "python",
   "pygments_lexer": "ipython3",
   "version": "3.11.5"
  }
 },
 "nbformat": 4,
 "nbformat_minor": 5
}
