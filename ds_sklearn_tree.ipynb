{
 "cells": [
  {
   "cell_type": "code",
   "execution_count": 17,
   "id": "74967121-cc38-4d9d-9370-19222d8869e0",
   "metadata": {},
   "outputs": [],
   "source": [
    "from sklearn import tree\n",
    "from sklearn.preprocessing import OneHotEncoder"
   ]
  },
  {
   "cell_type": "code",
   "execution_count": 18,
   "id": "d4b8101d-6048-4d3e-ad5f-d9478af7d976",
   "metadata": {},
   "outputs": [],
   "source": [
    "x= [\n",
    "    ['apple', 'small', 'sweet'],\n",
    "    ['carrot', 'medium', 'crunchy'],\n",
    "    ['orange', 'large', 'juicy'],\n",
    "    ['kiwi', 'small', 'tart'],\n",
    "    ['broccoli', 'medium', 'crisp'],\n",
    "    ['lemon', 'medium', 'sour'],\n",
    "    ['strawberry', 'small', 'sweet'],\n",
    "    ['pineapple', 'large', 'tangy']\n",
    "]"
   ]
  },
  {
   "cell_type": "code",
   "execution_count": 14,
   "id": "f1fd0f72-a3a4-41ce-ad1f-15df7eea007b",
   "metadata": {},
   "outputs": [],
   "source": [
    "y= ['fruit', 'vegetable', 'fruit', 'fruit', 'vegetable', 'fruit', 'fruit', 'fruit']"
   ]
  },
  {
   "cell_type": "code",
   "execution_count": 20,
   "id": "a7b44bdc-e8dc-4825-8afc-d12f67f4a37f",
   "metadata": {},
   "outputs": [],
   "source": [
    "encoder = OneHotEncoder()"
   ]
  },
  {
   "cell_type": "code",
   "execution_count": 22,
   "id": "f298dea9-c8a1-4ca3-8b3b-0b36e9e8f5ab",
   "metadata": {},
   "outputs": [],
   "source": [
    "encoded_x = encoder.fit_transform(x).toarray()"
   ]
  },
  {
   "cell_type": "code",
   "execution_count": 23,
   "id": "a1883297-8115-400f-8ed5-d090c929954c",
   "metadata": {},
   "outputs": [],
   "source": [
    "clf = tree.DecisionTreeClassifier()"
   ]
  },
  {
   "cell_type": "code",
   "execution_count": 24,
   "id": "50c59cd6-9a52-4b3f-a92c-3a3a07c0b40d",
   "metadata": {},
   "outputs": [],
   "source": [
    "clf = clf.fit(encoded_x, y)"
   ]
  },
  {
   "cell_type": "code",
   "execution_count": 46,
   "id": "5ab678a0-e7fe-4da8-9dbf-623270f1d5a4",
   "metadata": {},
   "outputs": [],
   "source": [
    "x1 = ['carrot', 'small', 'sweet']"
   ]
  },
  {
   "cell_type": "code",
   "execution_count": 47,
   "id": "649eed81-c1cd-481a-a28e-df2ffee715f8",
   "metadata": {},
   "outputs": [],
   "source": [
    "encoded_x1 = encoder.transform([x1]).toarray()"
   ]
  },
  {
   "cell_type": "code",
   "execution_count": 48,
   "id": "e05312ff-477d-4484-96c5-35a79ba990d7",
   "metadata": {},
   "outputs": [],
   "source": [
    "p = clf.predict(encoded_x1)"
   ]
  },
  {
   "cell_type": "code",
   "execution_count": 49,
   "id": "62aaabd6-6a7b-4f66-ba74-09ad2297eb5c",
   "metadata": {},
   "outputs": [
    {
     "name": "stdout",
     "output_type": "stream",
     "text": [
      "['fruit']\n"
     ]
    }
   ],
   "source": [
    "print(p)"
   ]
  },
  {
   "cell_type": "code",
   "execution_count": null,
   "id": "ecef26a4-a523-4647-82e2-70330bcc4c7d",
   "metadata": {},
   "outputs": [],
   "source": []
  }
 ],
 "metadata": {
  "kernelspec": {
   "display_name": "Python 3 (ipykernel)",
   "language": "python",
   "name": "python3"
  },
  "language_info": {
   "codemirror_mode": {
    "name": "ipython",
    "version": 3
   },
   "file_extension": ".py",
   "mimetype": "text/x-python",
   "name": "python",
   "nbconvert_exporter": "python",
   "pygments_lexer": "ipython3",
   "version": "3.11.5"
  }
 },
 "nbformat": 4,
 "nbformat_minor": 5
}
