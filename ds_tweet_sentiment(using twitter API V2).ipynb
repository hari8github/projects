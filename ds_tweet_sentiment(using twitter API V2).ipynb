{
 "cells": [
  {
   "cell_type": "code",
   "execution_count": 103,
   "id": "422a6c8d-0b6c-4c07-8cef-27bf99cc7c2e",
   "metadata": {},
   "outputs": [],
   "source": [
    "import tweepy"
   ]
  },
  {
   "cell_type": "code",
   "execution_count": 104,
   "id": "829f403b-fe90-4757-8cee-30a6226e061f",
   "metadata": {},
   "outputs": [],
   "source": [
    "from textblob import TextBlob"
   ]
  },
  {
   "cell_type": "code",
   "execution_count": 105,
   "id": "40006e12-da7f-44c2-94cf-f0893c3d72b1",
   "metadata": {},
   "outputs": [],
   "source": [
    "consumer_key = 'consumer code'\n",
    "consumer_secret = 'consumer secret code'"
   ]
  },
  {
   "cell_type": "code",
   "execution_count": 106,
   "id": "cc20c02b-ec2e-4064-acad-67bf2c911113",
   "metadata": {},
   "outputs": [],
   "source": [
    "access_token = 'access token'\n",
    "access_token_secret = 'access token secret'"
   ]
  },
  {
   "cell_type": "code",
   "execution_count": 107,
   "id": "a1074ca7-b09b-415d-a0d4-3f4a3a4fcd0c",
   "metadata": {},
   "outputs": [],
   "source": [
    "auth = tweepy.OAuth1UserHandler(consumer_key,consumer_secret,access_token, access_token_secret)"
   ]
  },
  {
   "cell_type": "code",
   "execution_count": 108,
   "id": "b9833447-0dac-4861-b97f-f22bfbda3ad9",
   "metadata": {},
   "outputs": [],
   "source": [
    "api = tweepy.API(auth, wait_on_rate_limit= True)"
   ]
  },
  {
   "cell_type": "code",
   "execution_count": 111,
   "id": "a6ca0dd0-b95c-4b55-be9c-f417093bec9c",
   "metadata": {},
   "outputs": [],
   "source": [
    "tweets = tweepy.Cursor(api.search_tweets, q='Google').items(100)"
   ]
  },
 ,
   "source": [
    "positive_count = 0\n",
    "negative_count = 0\n",
    "neutral_count = 0\n",
    "for tweet in tweets:\n",
    "   analysis = TextBlob(tweet.text)\n",
    "   if analysis.sentiment.polarity > 0:\n",
    "      positive_count += 1\n",
    "   elif analysis.sentiment.polarity < 0:\n",
    "      negative_count += 1\n",
    "   else:\n",
    "      neutral_count += 1\n",
    "total_count = positive_count + negative_count + neutral_count\n",
    "positive_percentage = (positive_count / total_count) * 100\n",
    "negative_percentage = (negative_count / total_count) * 100\n",
    "neutral_percentage = (neutral_count / total_count) * 100\n",
    "print(\"Sentiment Analysis Results for\", query)\n",
    "print(\"Total Tweets Analyzed:\", total_count)\n",
    "print(\"Positive Tweets:\", positive_percentage, \"%\")\n",
    "print(\"Negative Tweets:\", negative_percentage, \"%\")\n",
    "print(\"Neutral Tweets:\", neutral_percentage, \"%\")"
   ]
  },
  {
   "cell_type": "code",
   "execution_count": null,
   "id": "071820ab-19e0-4b08-bbce-05f6aadbfbbd",
   "metadata": {},
   "outputs": [],
   "source": []
  }
 ],
 "metadata": {
  "kernelspec": {
   "display_name": "Python 3 (ipykernel)",
   "language": "python",
   "name": "python3"
  },
  "language_info": {
   "codemirror_mode": {
    "name": "ipython",
    "version": 3
   },
   "file_extension": ".py",
   "mimetype": "text/x-python",
   "name": "python",
   "nbconvert_exporter": "python",
   "pygments_lexer": "ipython3",
   "version": "3.11.5"
  }
 },
 "nbformat": 4,
 "nbformat_minor": 5
}
